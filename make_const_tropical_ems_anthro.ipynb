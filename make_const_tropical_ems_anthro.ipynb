{
 "cells": [
  {
   "cell_type": "code",
   "execution_count": 1,
   "id": "e444b5cf-2729-4776-b456-e74744ca5bbd",
   "metadata": {},
   "outputs": [],
   "source": [
    "import xarray as xr\n",
    "import numpy as np \n",
    "import netCDF4 as nc"
   ]
  },
  {
   "cell_type": "code",
   "execution_count": 99,
   "id": "40cc2915-ccb4-4312-9206-b646905bd414",
   "metadata": {},
   "outputs": [],
   "source": [
    "\n",
    "def subset_3d_array (dataset, lat, lat_range, lon, lon_range):\n",
    "    \"\"\"\n",
    "    take a 3D data field and do a zonal mean, i.e. across a latitude circle,\n",
    "    over a given lat range\n",
    "    i.e. zonal mean of 20S-20N datc\n",
    "    \"\"\"\n",
    "    import numpy as np\n",
    "    lat_min = lat_range[0]\n",
    "    lat_max = lat_range[1]\n",
    "    lat_max_idx = np.abs(lat - lat_max).argmin()\n",
    "    lat_min_idx = np.abs(lat - lat_min).argmin()\n",
    "    lon_min = lon_range[0]\n",
    "    lon_min_idx = np.abs(lon - lon_min).argmin()\n",
    "    lon_max = lon_range[1]\n",
    "    lon_max_idx = np.abs(lon - lon_max).argmin()\n",
    "    # subset the data into the months of interest and the lat region of interest\n",
    "    datasubset = dataset[:,:,lat_min_idx:lat_max_idx, lon_min_idx:lon_max_idx]\n",
    "    # take zonal mean\n",
    "    #print lat_min_idx, lat_max_idx, lon_min_idx, lon_max_idx, np.shape(datasubset)\n",
    "    return [lat_min_idx,lat_max_idx], [lon_min_idx,lon_max_idx], datasubset\n",
    "\n",
    "def subset_2d_array (dataset, lat, lat_range, lon, lon_range):\n",
    "    \"\"\"\n",
    "    take a 3D data field and do a zonal mean, i.e. across a latitude circle,\n",
    "    over a given lat range\n",
    "    i.e. zonal mean of 20S-20N datc\n",
    "    \"\"\"\n",
    "    import numpy as np\n",
    "    lat_min = lat_range[0]\n",
    "    lat_max = lat_range[1]\n",
    "    lat_max_idx = np.abs(lat - lat_max).argmin()\n",
    "    lat_min_idx = np.abs(lat - lat_min).argmin()\n",
    "    lon_min = lon_range[0]\n",
    "    lon_min_idx = np.abs(lon - lon_min).argmin()\n",
    "    lon_max = lon_range[1]\n",
    "    lon_max_idx = np.abs(lon - lon_max).argmin()\n",
    "    # subset the data into the months of interest and the lat region of interest\n",
    "    datasubset = dataset[:,:,lat_min_idx:lat_max_idx, lon_min_idx:lon_max_idx]\n",
    "    # take zonal mean\n",
    "    #print lat_min_idx, lat_max_idx, lon_min_idx, lon_max_idx, np.shape(datasubset)\n",
    "    return [lat_min_idx,lat_max_idx], [lon_min_idx,lon_max_idx], datasubset\n"
   ]
  },
  {
   "cell_type": "code",
   "execution_count": 4,
   "id": "934b20a3-c2be-4e50-a520-fd52ff9a701b",
   "metadata": {},
   "outputs": [],
   "source": [
    "lat_range=[-20,20]\n",
    "lon_range=[0,360]"
   ]
  },
  {
   "cell_type": "code",
   "execution_count": 83,
   "id": "e94f439a-0328-4c6a-bf2f-db6e8233ff9f",
   "metadata": {},
   "outputs": [],
   "source": [
    "files = [\n",
    "    'BC_biofuel_anthropogenic_1849_2015_time_series.nc',\n",
    "    'BC_fossil_anthropogenic_1849_2015_time_series.nc',\n",
    "    'C2H6_anthropogenic_1849_2015_time_series.nc',\n",
    "    'C3H8_anthropogenic_1849_2015_time_series.nc',\n",
    "    'CH4_anthropogenic_1849_2015_time_series.nc',\n",
    "    'CO_anthropogenic_1849_2015_time_series.nc',\n",
    "    'HCHO_anthropogenic_1849_2015_time_series.nc',\n",
    "    'Me2CO_anthropogenic_1849_2015_time_series.nc',\n",
    "    'MeCHO_anthropogenic_1849_2015_time_series.nc',\n",
    "    'MeOH_anthropogenic_1849_2015_time_series.nc',\n",
    "    'NH3_anthropogenic_1849_2015_time_series.nc',\n",
    "    'NO_anthropogenic_1849_2015_time_series.nc',\n",
    "    'NVOC_anthropogenic_1849_2015_time_series.nc',\n",
    "    'OC_biofuel_anthropogenic_1849_2015_time_series.nc',\n",
    "    'OC_fossil_anthropogenic_1849_2015_time_series.nc',\n",
    "    'SO2_all_low_anthropogenic_1849_2015_time_series.nc',\n",
    "    'SO2_high_anthropogenic_1849_2015_time_series.nc',\n",
    "    'SO2_low_anthropogenic_1849_2015_time_series.nc'\n",
    "    ]\n",
    "\n",
    "variables = [\n",
    "    'emissions_BC_biofuel',\n",
    "    'emissions_BC_fossil',\n",
    "    'emissions_C2H6',\n",
    "    'emissions_C3H8',\n",
    "    'emissions_CH4',\n",
    "    'emissions_CO',\n",
    "    'emissions_HCHO',\n",
    "    'emissions_Me2CO',\n",
    "    'emissions_MeCHO',\n",
    "    'emissions_MeOH',\n",
    "    'emissions_NH3',\n",
    "    'emissions_NO',\n",
    "    'emissions_NVOC',\n",
    "    'emissions_OC_biofuel',\n",
    "    'emissions_OC_fossil',\n",
    "    'emissions_SO2_all_low_kgSO2',\n",
    "    'emissions_SO2_high_kgSO2',\n",
    "    'emissions_SO2_low_kgSO2'\n",
    "]"
   ]
  },
  {
   "cell_type": "code",
   "execution_count": 86,
   "id": "e75e6060-3c13-40dc-913a-700a5374101a",
   "metadata": {},
   "outputs": [
    {
     "name": "stdout",
     "output_type": "stream",
     "text": [
      "BC_biofuel\n",
      "\n",
      "BC_fossil\n",
      "\n",
      "C2H6_anthropogenic\n",
      "\n",
      "C3H8_anthropogenic\n",
      "\n",
      "CH4_anthropogenic\n",
      "\n",
      "CO_anthropogenic\n",
      "\n",
      "HCHO_anthropogenic\n",
      "\n",
      "Me2CO_anthropogenic\n",
      "\n",
      "MeCHO_anthropogenic\n",
      "\n",
      "MeOH_anthropogenic\n",
      "\n",
      "NH3_anthropogenic\n",
      "\n",
      "NO_anthropogenic\n",
      "\n",
      "NVOC_anthropogenic\n",
      "\n",
      "OC_biofuel\n",
      "\n",
      "OC_fossil\n",
      "\n",
      "SO2_all\n",
      "\n",
      "SO2_high\n",
      "\n",
      "SO2_low\n",
      "\n"
     ]
    }
   ],
   "source": [
    "disk='/gws/nopw/j04/htap2/ptg21/OPT/emianox/'\n",
    "\n",
    "ivar=0\n",
    "for file,vari in zip(files,variables):\n",
    "    ivar=ivar+1\n",
    "    names = file.split('_')\n",
    "    outfile = names[0]+'_'+names[1]\n",
    "    print(outfile+'\\n')\n",
    "    CMIP6_anthro = xr.open_dataset(disk+file)\n",
    "    # select data from 1995-2014 from ancil\n",
    "    CMIP6_anthro_1995_2014 = CMIP6_anthro.sel(time = slice('1994-12-01','2015-01-01'))\n",
    "    # get the 1995 data for use as constant emissisions within tropics\n",
    "    CMIP6_anthro_1995_data = CMIP6_anthro_1995_2014.sel(time = slice('1994-12-01','1996-01-01'))[vari]\n",
    "    # get subset of 1995 data over required lat and lon ranges\n",
    "    lat_idxs, lon_idxs, subset_CMIP6_anthro_1995_data = subset_2d_array(CMIP6_anthro_1995_data.data,\n",
    "                                                        CMIP6_anthro_1995_data['latitude'].data[:], lat_range,     \n",
    "                                                        CMIP6_anthro_1995_data['longitude'].data[:], lon_range)    \n",
    "    # empty array to cover 1995-2014 for filling\n",
    "    const_1995_ems  = np.ones((20*12+1,1,144,192))\n",
    "    # fill with base data from transient 1995-2014\n",
    "    const_1995_ems = np.array(CMIP6_anthro_1995_2014[vari].data) # good lord!  constant 1995_ems remains a dataarray object unless you do this.\n",
    "    # make sure first element (i.e. december 1994) is available since 1995-01-01 requires it and ems are in the middle of the month!\n",
    "    const_1995_ems[0,...] = CMIP6_anthro_1995_data.data[-1,...]\n",
    "\n",
    "    # for each year overwrite the required region with the 1995 data\n",
    "    for ivar in range (0,19):\n",
    "        # overwrite data within region with constant 1995 data\n",
    "        const_1995_ems[ivar*12+1:(ivar+1)*12+1,:,lat_idxs[0]:lat_idxs[1],lon_idxs[0]:lon_idxs[1]] = subset_CMIP6_anthro_1995_data[1:,:,:,:]\n",
    "\n",
    "    CMIP6_anthro_const_1995 = CMIP6_anthro_1995_2014.copy(deep=True)\n",
    "    CMIP6_anthro_const_1995[vari].data[:] = const_1995_ems\n",
    "    CMIP6_anthro_const_1995[vari].compute()\n",
    "    CMIP6_anthro_const_1995.to_netcdf('1995_2015_'+vari+'_constant_tropic.nc')"
   ]
  },
  {
   "cell_type": "markdown",
   "id": "168e4ab8-0185-4375-bf4c-b6a13bbc5e54",
   "metadata": {},
   "source": [
    "## sanity check"
   ]
  },
  {
   "cell_type": "code",
   "execution_count": 93,
   "id": "d4d82666-55ec-4909-8bf6-db61a0d65045",
   "metadata": {},
   "outputs": [
    {
     "name": "stderr",
     "output_type": "stream",
     "text": [
      "/tmp/ipykernel_3318/3311774033.py:1: MatplotlibDeprecationWarning: shading='flat' when X and Y have the same dimensions as C is deprecated since 3.3.  Either specify the corners of the quadrilaterals with X and Y, or pass shading='auto', 'nearest' or 'gouraud', or set rcParams['pcolor.shading'].  This will become an error two minor releases later.\n",
      "  plt.pcolormesh(CMIP6_anthro_1995_data['longitude'].data[:],CMIP6_anthro_1995_data['latitude'].data[:],CMIP6_anthro_const_1995.emissions_SO2_low_kgSO2[228,0,:,:]-CMIP6_anthro_1995_2014.emissions_SO2_low_kgSO2[228,0,:,:], cmap='RdBu_r')\n"
     ]
    },
    {
     "data": {
      "text/plain": [
       "<matplotlib.colorbar.Colorbar at 0x7ff8a0468fa0>"
      ]
     },
     "execution_count": 93,
     "metadata": {},
     "output_type": "execute_result"
    },
    {
     "data": {
      "image/png": "[encoded data removed]",
      "text/plain": [
       "<Figure size 432x288 with 2 Axes>"
      ]
     },
     "metadata": {
      "needs_background": "light"
     },
     "output_type": "display_data"
    }
   ],
   "source": [
    "plt.pcolormesh(CMIP6_anthro_1995_data['longitude'].data[:],CMIP6_anthro_1995_data['latitude'].data[:],CMIP6_anthro_const_1995.emissions_SO2_low_kgSO2[228,0,:,:]-CMIP6_anthro_1995_2014.emissions_SO2_low_kgSO2[228,0,:,:], cmap='RdBu_r')\n",
    "plt.colorbar()"
   ]
  },
  {
   "cell_type": "code",
   "execution_count": 97,
   "id": "bc8e72d7-61c9-4af2-8b52-176fd4672afe",
   "metadata": {},
   "outputs": [],
   "source": [
    "files = ['NO_aircrft_anthropogenic_1849_2015_time_series.nc']\n",
    "variables = ['emissions_NO_aircrft']"
   ]
  },
  {
   "cell_type": "code",
   "execution_count": 100,
   "id": "6466a5cb-538c-42ae-ae79-193721d10912",
   "metadata": {},
   "outputs": [
    {
     "name": "stdout",
     "output_type": "stream",
     "text": [
      "NO_aircrft\n",
      "\n"
     ]
    }
   ],
   "source": [
    "disk='/gws/nopw/j04/htap2/ptg21/OPT/emianox/'\n",
    "\n",
    "ivar=0\n",
    "for file,vari in zip(files,variables):\n",
    "    ivar=ivar+1\n",
    "    names = file.split('_')\n",
    "    outfile = names[0]+'_'+names[1]\n",
    "    print(outfile+'\\n')\n",
    "    CMIP6_anthro = xr.open_dataset(disk+file)\n",
    "    # select data from 1995-2014 from ancil\n",
    "    CMIP6_anthro_1995_2014 = CMIP6_anthro.sel(time = slice('1994-12-01','2015-01-01'))\n",
    "    # get the 1995 data for use as constant emissisions within tropics\n",
    "    CMIP6_anthro_1995_data = CMIP6_anthro_1995_2014.sel(time = slice('1994-12-01','1996-01-01'))[vari]\n",
    "    # get subset of 1995 data over required lat and lon ranges\n",
    "    lat_idxs, lon_idxs, subset_CMIP6_anthro_1995_data = subset_3d_array(CMIP6_anthro_1995_data.data,\n",
    "                                                        CMIP6_anthro_1995_data['latitude'].data[:], lat_range,     \n",
    "                                                        CMIP6_anthro_1995_data['longitude'].data[:], lon_range)    \n",
    "    # empty array to cover 1995-2014 for filling\n",
    "    const_1995_ems  = np.ones((20*12+1,85,144,192))\n",
    "    # fill with base data from transient 1995-2014\n",
    "    const_1995_ems = np.array(CMIP6_anthro_1995_2014[vari].data) # good lord!  constant 1995_ems remains a dataarray object unless you do this.\n",
    "    # make sure first element (i.e. december 1994) is available since 1995-01-01 requires it and ems are in the middle of the month!\n",
    "    const_1995_ems[0,...] = CMIP6_anthro_1995_data.data[-1,...]\n",
    "\n",
    "    # for each year overwrite the required region with the 1995 data\n",
    "    for ivar in range (0,19):\n",
    "        # overwrite data within region with constant 1995 data\n",
    "        const_1995_ems[ivar*12+1:(ivar+1)*12+1,:,lat_idxs[0]:lat_idxs[1],lon_idxs[0]:lon_idxs[1]] = subset_CMIP6_anthro_1995_data[1:,:,:,:]\n",
    "\n",
    "    CMIP6_anthro_const_1995 = CMIP6_anthro_1995_2014.copy(deep=True)\n",
    "    CMIP6_anthro_const_1995[vari].data[:] = const_1995_ems\n",
    "    CMIP6_anthro_const_1995[vari].compute()\n",
    "    CMIP6_anthro_const_1995.to_netcdf('1995_2015_'+vari+'_constant_tropic.nc')"
   ]
  },
  {
   "cell_type": "code",
   "execution_count": null,
   "id": "d8003b1a-31aa-4b29-8652-37e78c8dd9c1",
   "metadata": {},
   "outputs": [],
   "source": []
  }
 ],
 "metadata": {
  "kernelspec": {
   "display_name": "Python 3 + Jaspy",
   "language": "python",
   "name": "jaspy"
  },
  "language_info": {
   "codemirror_mode": {
    "name": "ipython",
    "version": 3
   },
   "file_extension": ".py",
   "mimetype": "text/x-python",
   "name": "python",
   "nbconvert_exporter": "python",
   "pygments_lexer": "ipython3",
   "version": "3.8.12"
  }
 },
 "nbformat": 4,
 "nbformat_minor": 5
}
