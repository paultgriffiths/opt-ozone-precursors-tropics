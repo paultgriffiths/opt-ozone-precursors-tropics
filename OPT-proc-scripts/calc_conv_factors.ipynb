{
 "cells": [
  {
   "cell_type": "code",
   "execution_count": 1,
   "metadata": {},
   "outputs": [
    {
     "name": "stdout",
     "output_type": "stream",
     "text": [
      "C5H8 0.4252011156782149\n",
      "NO 0.9652969406118777\n",
      "NO2 0.6295852714863279\n",
      "CO 1.0340842556229917\n",
      "HCHO 0.9646539665623127\n",
      "O3 0.6034689668104256\n",
      "OH 1.7031046039865936\n",
      "CH4 1.8054416256311165\n"
     ]
    }
   ],
   "source": [
    "print ('C5H8',  28.9647/68.12 )\n",
    "print ('NO',    28.9647/30.006)\n",
    "print ('NO2',   28.9647/46.006)\n",
    "print ('CO',    28.9647/28.010)\n",
    "print ('HCHO',  28.9647/30.026)\n",
    "print ('O3',    28.9647/47.997)\n",
    "print ('OH',    28.9647/17.007)\n",
    "print ('CH4',   28.9647/16.043)\n",
    "# AIR 28.9647"
   ]
  },
  {
   "cell_type": "code",
   "execution_count": 3,
   "metadata": {},
   "outputs": [],
   "source": [
    "conv_factors = {'c5h8': 0.4252011156782149,\n",
    "                'no': 0.9652969406118777,\n",
    "                'no2': 0.6295852714863279,\n",
    "                'co': 1.0340842556229917,\n",
    "                'hcho': 0.9646539665623127,\n",
    "                'o3': 0.6034689668104256,\n",
    "                'oh': 1.7031046039865936}\n"
   ]
  },
  {
   "cell_type": "code",
   "execution_count": 4,
   "metadata": {},
   "outputs": [
    {
     "data": {
      "text/plain": [
       "1.7031046039865936"
      ]
     },
     "execution_count": 4,
     "metadata": {},
     "output_type": "execute_result"
    }
   ],
   "source": [
    "conv_factors['oh']"
   ]
  },
  {
   "cell_type": "code",
   "execution_count": null,
   "metadata": {},
   "outputs": [],
   "source": []
  }
 ],
 "metadata": {
  "kernelspec": {
   "display_name": "Python 3 (ipykernel)",
   "language": "python",
   "name": "python3"
  },
  "language_info": {
   "codemirror_mode": {
    "name": "ipython",
    "version": 3
   },
   "file_extension": ".py",
   "mimetype": "text/x-python",
   "name": "python",
   "nbconvert_exporter": "python",
   "pygments_lexer": "ipython3",
   "version": "3.9.13"
  },
  "vscode": {
   "interpreter": {
    "hash": "5c7b89af1651d0b8571dde13640ecdccf7d5a6204171d6ab33e7c296e100e08a"
   }
  }
 },
 "nbformat": 4,
 "nbformat_minor": 4
}
